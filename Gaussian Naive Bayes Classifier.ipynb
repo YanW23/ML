{
 "cells": [
  {
   "cell_type": "markdown",
   "metadata": {},
   "source": [
    "# 1 导入所需模块"
   ]
  },
  {
   "cell_type": "code",
   "execution_count": 1038,
   "metadata": {},
   "outputs": [],
   "source": [
    "import numpy as np\n",
    "import matplotlib.pyplot as plt\n",
    "from sklearn import datasets\n",
    "from sklearn.model_selection import train_test_split\n",
    "from sklearn.preprocessing import StandardScaler\n",
    "import pandas as pd\n",
    "import math\n",
    "import random"
   ]
  },
  {
   "cell_type": "markdown",
   "metadata": {},
   "source": [
    "# 2 读取数据集"
   ]
  },
  {
   "cell_type": "code",
   "execution_count": 1039,
   "metadata": {},
   "outputs": [
    {
     "data": {
      "text/plain": [
       "{'data': array([[1.423e+01, 1.710e+00, 2.430e+00, ..., 1.040e+00, 3.920e+00,\n",
       "         1.065e+03],\n",
       "        [1.320e+01, 1.780e+00, 2.140e+00, ..., 1.050e+00, 3.400e+00,\n",
       "         1.050e+03],\n",
       "        [1.316e+01, 2.360e+00, 2.670e+00, ..., 1.030e+00, 3.170e+00,\n",
       "         1.185e+03],\n",
       "        ...,\n",
       "        [1.327e+01, 4.280e+00, 2.260e+00, ..., 5.900e-01, 1.560e+00,\n",
       "         8.350e+02],\n",
       "        [1.317e+01, 2.590e+00, 2.370e+00, ..., 6.000e-01, 1.620e+00,\n",
       "         8.400e+02],\n",
       "        [1.413e+01, 4.100e+00, 2.740e+00, ..., 6.100e-01, 1.600e+00,\n",
       "         5.600e+02]]),\n",
       " 'target': array([0, 0, 0, 0, 0, 0, 0, 0, 0, 0, 0, 0, 0, 0, 0, 0, 0, 0, 0, 0, 0, 0,\n",
       "        0, 0, 0, 0, 0, 0, 0, 0, 0, 0, 0, 0, 0, 0, 0, 0, 0, 0, 0, 0, 0, 0,\n",
       "        0, 0, 0, 0, 0, 0, 0, 0, 0, 0, 0, 0, 0, 0, 0, 1, 1, 1, 1, 1, 1, 1,\n",
       "        1, 1, 1, 1, 1, 1, 1, 1, 1, 1, 1, 1, 1, 1, 1, 1, 1, 1, 1, 1, 1, 1,\n",
       "        1, 1, 1, 1, 1, 1, 1, 1, 1, 1, 1, 1, 1, 1, 1, 1, 1, 1, 1, 1, 1, 1,\n",
       "        1, 1, 1, 1, 1, 1, 1, 1, 1, 1, 1, 1, 1, 1, 1, 1, 1, 1, 1, 1, 2, 2,\n",
       "        2, 2, 2, 2, 2, 2, 2, 2, 2, 2, 2, 2, 2, 2, 2, 2, 2, 2, 2, 2, 2, 2,\n",
       "        2, 2, 2, 2, 2, 2, 2, 2, 2, 2, 2, 2, 2, 2, 2, 2, 2, 2, 2, 2, 2, 2,\n",
       "        2, 2]),\n",
       " 'frame': None,\n",
       " 'target_names': array(['class_0', 'class_1', 'class_2'], dtype='<U7'),\n",
       " 'DESCR': '.. _wine_dataset:\\n\\nWine recognition dataset\\n------------------------\\n\\n**Data Set Characteristics:**\\n\\n    :Number of Instances: 178 (50 in each of three classes)\\n    :Number of Attributes: 13 numeric, predictive attributes and the class\\n    :Attribute Information:\\n \\t\\t- Alcohol\\n \\t\\t- Malic acid\\n \\t\\t- Ash\\n\\t\\t- Alcalinity of ash  \\n \\t\\t- Magnesium\\n\\t\\t- Total phenols\\n \\t\\t- Flavanoids\\n \\t\\t- Nonflavanoid phenols\\n \\t\\t- Proanthocyanins\\n\\t\\t- Color intensity\\n \\t\\t- Hue\\n \\t\\t- OD280/OD315 of diluted wines\\n \\t\\t- Proline\\n\\n    - class:\\n            - class_0\\n            - class_1\\n            - class_2\\n\\t\\t\\n    :Summary Statistics:\\n    \\n    ============================= ==== ===== ======= =====\\n                                   Min   Max   Mean     SD\\n    ============================= ==== ===== ======= =====\\n    Alcohol:                      11.0  14.8    13.0   0.8\\n    Malic Acid:                   0.74  5.80    2.34  1.12\\n    Ash:                          1.36  3.23    2.36  0.27\\n    Alcalinity of Ash:            10.6  30.0    19.5   3.3\\n    Magnesium:                    70.0 162.0    99.7  14.3\\n    Total Phenols:                0.98  3.88    2.29  0.63\\n    Flavanoids:                   0.34  5.08    2.03  1.00\\n    Nonflavanoid Phenols:         0.13  0.66    0.36  0.12\\n    Proanthocyanins:              0.41  3.58    1.59  0.57\\n    Colour Intensity:              1.3  13.0     5.1   2.3\\n    Hue:                          0.48  1.71    0.96  0.23\\n    OD280/OD315 of diluted wines: 1.27  4.00    2.61  0.71\\n    Proline:                       278  1680     746   315\\n    ============================= ==== ===== ======= =====\\n\\n    :Missing Attribute Values: None\\n    :Class Distribution: class_0 (59), class_1 (71), class_2 (48)\\n    :Creator: R.A. Fisher\\n    :Donor: Michael Marshall (MARSHALL%PLU@io.arc.nasa.gov)\\n    :Date: July, 1988\\n\\nThis is a copy of UCI ML Wine recognition datasets.\\nhttps://archive.ics.uci.edu/ml/machine-learning-databases/wine/wine.data\\n\\nThe data is the results of a chemical analysis of wines grown in the same\\nregion in Italy by three different cultivators. There are thirteen different\\nmeasurements taken for different constituents found in the three types of\\nwine.\\n\\nOriginal Owners: \\n\\nForina, M. et al, PARVUS - \\nAn Extendible Package for Data Exploration, Classification and Correlation. \\nInstitute of Pharmaceutical and Food Analysis and Technologies,\\nVia Brigata Salerno, 16147 Genoa, Italy.\\n\\nCitation:\\n\\nLichman, M. (2013). UCI Machine Learning Repository\\n[https://archive.ics.uci.edu/ml]. Irvine, CA: University of California,\\nSchool of Information and Computer Science. \\n\\n.. topic:: References\\n\\n  (1) S. Aeberhard, D. Coomans and O. de Vel, \\n  Comparison of Classifiers in High Dimensional Settings, \\n  Tech. Rep. no. 92-02, (1992), Dept. of Computer Science and Dept. of  \\n  Mathematics and Statistics, James Cook University of North Queensland. \\n  (Also submitted to Technometrics). \\n\\n  The data was used with many others for comparing various \\n  classifiers. The classes are separable, though only RDA \\n  has achieved 100% correct classification. \\n  (RDA : 100%, QDA 99.4%, LDA 98.9%, 1NN 96.1% (z-transformed data)) \\n  (All results using the leave-one-out technique) \\n\\n  (2) S. Aeberhard, D. Coomans and O. de Vel, \\n  \"THE CLASSIFICATION PERFORMANCE OF RDA\" \\n  Tech. Rep. no. 92-01, (1992), Dept. of Computer Science and Dept. of \\n  Mathematics and Statistics, James Cook University of North Queensland. \\n  (Also submitted to Journal of Chemometrics).\\n',\n",
       " 'feature_names': ['alcohol',\n",
       "  'malic_acid',\n",
       "  'ash',\n",
       "  'alcalinity_of_ash',\n",
       "  'magnesium',\n",
       "  'total_phenols',\n",
       "  'flavanoids',\n",
       "  'nonflavanoid_phenols',\n",
       "  'proanthocyanins',\n",
       "  'color_intensity',\n",
       "  'hue',\n",
       "  'od280/od315_of_diluted_wines',\n",
       "  'proline']}"
      ]
     },
     "execution_count": 1039,
     "metadata": {},
     "output_type": "execute_result"
    }
   ],
   "source": [
    "wine_data=datasets.load_wine()#加载红酒数据集\n",
    "wine_data\n",
    "\n",
    "# breast_cancer_data=datasets.load_breast_cancer()#加载乳腺癌数据集\n",
    "# breast_cancer_data\n",
    "\n",
    "# iris_data=datasets.load_iris()#加载鸢尾花数据集\n",
    "# iris_data"
   ]
  },
  {
   "cell_type": "code",
   "execution_count": 1040,
   "metadata": {},
   "outputs": [
    {
     "data": {
      "text/html": [
       "<div>\n",
       "<style scoped>\n",
       "    .dataframe tbody tr th:only-of-type {\n",
       "        vertical-align: middle;\n",
       "    }\n",
       "\n",
       "    .dataframe tbody tr th {\n",
       "        vertical-align: top;\n",
       "    }\n",
       "\n",
       "    .dataframe thead th {\n",
       "        text-align: right;\n",
       "    }\n",
       "</style>\n",
       "<table border=\"1\" class=\"dataframe\">\n",
       "  <thead>\n",
       "    <tr style=\"text-align: right;\">\n",
       "      <th></th>\n",
       "      <th>alcohol</th>\n",
       "      <th>malic_acid</th>\n",
       "      <th>ash</th>\n",
       "      <th>alcalinity_of_ash</th>\n",
       "      <th>magnesium</th>\n",
       "      <th>total_phenols</th>\n",
       "      <th>flavanoids</th>\n",
       "      <th>nonflavanoid_phenols</th>\n",
       "      <th>proanthocyanins</th>\n",
       "      <th>color_intensity</th>\n",
       "      <th>hue</th>\n",
       "      <th>od280/od315_of_diluted_wines</th>\n",
       "      <th>proline</th>\n",
       "      <th>Species</th>\n",
       "    </tr>\n",
       "  </thead>\n",
       "  <tbody>\n",
       "    <tr>\n",
       "      <th>0</th>\n",
       "      <td>14.23</td>\n",
       "      <td>1.71</td>\n",
       "      <td>2.43</td>\n",
       "      <td>15.6</td>\n",
       "      <td>127.0</td>\n",
       "      <td>2.80</td>\n",
       "      <td>3.06</td>\n",
       "      <td>0.28</td>\n",
       "      <td>2.29</td>\n",
       "      <td>5.64</td>\n",
       "      <td>1.04</td>\n",
       "      <td>3.92</td>\n",
       "      <td>1065.0</td>\n",
       "      <td>0</td>\n",
       "    </tr>\n",
       "    <tr>\n",
       "      <th>1</th>\n",
       "      <td>13.20</td>\n",
       "      <td>1.78</td>\n",
       "      <td>2.14</td>\n",
       "      <td>11.2</td>\n",
       "      <td>100.0</td>\n",
       "      <td>2.65</td>\n",
       "      <td>2.76</td>\n",
       "      <td>0.26</td>\n",
       "      <td>1.28</td>\n",
       "      <td>4.38</td>\n",
       "      <td>1.05</td>\n",
       "      <td>3.40</td>\n",
       "      <td>1050.0</td>\n",
       "      <td>0</td>\n",
       "    </tr>\n",
       "    <tr>\n",
       "      <th>2</th>\n",
       "      <td>13.16</td>\n",
       "      <td>2.36</td>\n",
       "      <td>2.67</td>\n",
       "      <td>18.6</td>\n",
       "      <td>101.0</td>\n",
       "      <td>2.80</td>\n",
       "      <td>3.24</td>\n",
       "      <td>0.30</td>\n",
       "      <td>2.81</td>\n",
       "      <td>5.68</td>\n",
       "      <td>1.03</td>\n",
       "      <td>3.17</td>\n",
       "      <td>1185.0</td>\n",
       "      <td>0</td>\n",
       "    </tr>\n",
       "    <tr>\n",
       "      <th>3</th>\n",
       "      <td>14.37</td>\n",
       "      <td>1.95</td>\n",
       "      <td>2.50</td>\n",
       "      <td>16.8</td>\n",
       "      <td>113.0</td>\n",
       "      <td>3.85</td>\n",
       "      <td>3.49</td>\n",
       "      <td>0.24</td>\n",
       "      <td>2.18</td>\n",
       "      <td>7.80</td>\n",
       "      <td>0.86</td>\n",
       "      <td>3.45</td>\n",
       "      <td>1480.0</td>\n",
       "      <td>0</td>\n",
       "    </tr>\n",
       "    <tr>\n",
       "      <th>4</th>\n",
       "      <td>13.24</td>\n",
       "      <td>2.59</td>\n",
       "      <td>2.87</td>\n",
       "      <td>21.0</td>\n",
       "      <td>118.0</td>\n",
       "      <td>2.80</td>\n",
       "      <td>2.69</td>\n",
       "      <td>0.39</td>\n",
       "      <td>1.82</td>\n",
       "      <td>4.32</td>\n",
       "      <td>1.04</td>\n",
       "      <td>2.93</td>\n",
       "      <td>735.0</td>\n",
       "      <td>0</td>\n",
       "    </tr>\n",
       "    <tr>\n",
       "      <th>...</th>\n",
       "      <td>...</td>\n",
       "      <td>...</td>\n",
       "      <td>...</td>\n",
       "      <td>...</td>\n",
       "      <td>...</td>\n",
       "      <td>...</td>\n",
       "      <td>...</td>\n",
       "      <td>...</td>\n",
       "      <td>...</td>\n",
       "      <td>...</td>\n",
       "      <td>...</td>\n",
       "      <td>...</td>\n",
       "      <td>...</td>\n",
       "      <td>...</td>\n",
       "    </tr>\n",
       "    <tr>\n",
       "      <th>173</th>\n",
       "      <td>13.71</td>\n",
       "      <td>5.65</td>\n",
       "      <td>2.45</td>\n",
       "      <td>20.5</td>\n",
       "      <td>95.0</td>\n",
       "      <td>1.68</td>\n",
       "      <td>0.61</td>\n",
       "      <td>0.52</td>\n",
       "      <td>1.06</td>\n",
       "      <td>7.70</td>\n",
       "      <td>0.64</td>\n",
       "      <td>1.74</td>\n",
       "      <td>740.0</td>\n",
       "      <td>2</td>\n",
       "    </tr>\n",
       "    <tr>\n",
       "      <th>174</th>\n",
       "      <td>13.40</td>\n",
       "      <td>3.91</td>\n",
       "      <td>2.48</td>\n",
       "      <td>23.0</td>\n",
       "      <td>102.0</td>\n",
       "      <td>1.80</td>\n",
       "      <td>0.75</td>\n",
       "      <td>0.43</td>\n",
       "      <td>1.41</td>\n",
       "      <td>7.30</td>\n",
       "      <td>0.70</td>\n",
       "      <td>1.56</td>\n",
       "      <td>750.0</td>\n",
       "      <td>2</td>\n",
       "    </tr>\n",
       "    <tr>\n",
       "      <th>175</th>\n",
       "      <td>13.27</td>\n",
       "      <td>4.28</td>\n",
       "      <td>2.26</td>\n",
       "      <td>20.0</td>\n",
       "      <td>120.0</td>\n",
       "      <td>1.59</td>\n",
       "      <td>0.69</td>\n",
       "      <td>0.43</td>\n",
       "      <td>1.35</td>\n",
       "      <td>10.20</td>\n",
       "      <td>0.59</td>\n",
       "      <td>1.56</td>\n",
       "      <td>835.0</td>\n",
       "      <td>2</td>\n",
       "    </tr>\n",
       "    <tr>\n",
       "      <th>176</th>\n",
       "      <td>13.17</td>\n",
       "      <td>2.59</td>\n",
       "      <td>2.37</td>\n",
       "      <td>20.0</td>\n",
       "      <td>120.0</td>\n",
       "      <td>1.65</td>\n",
       "      <td>0.68</td>\n",
       "      <td>0.53</td>\n",
       "      <td>1.46</td>\n",
       "      <td>9.30</td>\n",
       "      <td>0.60</td>\n",
       "      <td>1.62</td>\n",
       "      <td>840.0</td>\n",
       "      <td>2</td>\n",
       "    </tr>\n",
       "    <tr>\n",
       "      <th>177</th>\n",
       "      <td>14.13</td>\n",
       "      <td>4.10</td>\n",
       "      <td>2.74</td>\n",
       "      <td>24.5</td>\n",
       "      <td>96.0</td>\n",
       "      <td>2.05</td>\n",
       "      <td>0.76</td>\n",
       "      <td>0.56</td>\n",
       "      <td>1.35</td>\n",
       "      <td>9.20</td>\n",
       "      <td>0.61</td>\n",
       "      <td>1.60</td>\n",
       "      <td>560.0</td>\n",
       "      <td>2</td>\n",
       "    </tr>\n",
       "  </tbody>\n",
       "</table>\n",
       "<p>178 rows × 14 columns</p>\n",
       "</div>"
      ],
      "text/plain": [
       "     alcohol  malic_acid   ash  alcalinity_of_ash  magnesium  total_phenols  \\\n",
       "0      14.23        1.71  2.43               15.6      127.0           2.80   \n",
       "1      13.20        1.78  2.14               11.2      100.0           2.65   \n",
       "2      13.16        2.36  2.67               18.6      101.0           2.80   \n",
       "3      14.37        1.95  2.50               16.8      113.0           3.85   \n",
       "4      13.24        2.59  2.87               21.0      118.0           2.80   \n",
       "..       ...         ...   ...                ...        ...            ...   \n",
       "173    13.71        5.65  2.45               20.5       95.0           1.68   \n",
       "174    13.40        3.91  2.48               23.0      102.0           1.80   \n",
       "175    13.27        4.28  2.26               20.0      120.0           1.59   \n",
       "176    13.17        2.59  2.37               20.0      120.0           1.65   \n",
       "177    14.13        4.10  2.74               24.5       96.0           2.05   \n",
       "\n",
       "     flavanoids  nonflavanoid_phenols  proanthocyanins  color_intensity   hue  \\\n",
       "0          3.06                  0.28             2.29             5.64  1.04   \n",
       "1          2.76                  0.26             1.28             4.38  1.05   \n",
       "2          3.24                  0.30             2.81             5.68  1.03   \n",
       "3          3.49                  0.24             2.18             7.80  0.86   \n",
       "4          2.69                  0.39             1.82             4.32  1.04   \n",
       "..          ...                   ...              ...              ...   ...   \n",
       "173        0.61                  0.52             1.06             7.70  0.64   \n",
       "174        0.75                  0.43             1.41             7.30  0.70   \n",
       "175        0.69                  0.43             1.35            10.20  0.59   \n",
       "176        0.68                  0.53             1.46             9.30  0.60   \n",
       "177        0.76                  0.56             1.35             9.20  0.61   \n",
       "\n",
       "     od280/od315_of_diluted_wines  proline  Species  \n",
       "0                            3.92   1065.0        0  \n",
       "1                            3.40   1050.0        0  \n",
       "2                            3.17   1185.0        0  \n",
       "3                            3.45   1480.0        0  \n",
       "4                            2.93    735.0        0  \n",
       "..                            ...      ...      ...  \n",
       "173                          1.74    740.0        2  \n",
       "174                          1.56    750.0        2  \n",
       "175                          1.56    835.0        2  \n",
       "176                          1.62    840.0        2  \n",
       "177                          1.60    560.0        2  \n",
       "\n",
       "[178 rows x 14 columns]"
      ]
     },
     "execution_count": 1040,
     "metadata": {},
     "output_type": "execute_result"
    }
   ],
   "source": [
    "# #特征选择\n",
    "# wine_df_selection=wine_df[['proanthocyanins','flavanoids','od280/od315_of_diluted_wines','total_phenols',\n",
    "#                           'malic_acid','alcohol','Species']]\n",
    "# wine_df_selection\n",
    "\n",
    "#将数据集转换为dataframe形式，便于观察\n",
    "wine_df=pd.DataFrame(wine_data['data'],columns=\n",
    "                    ['alcohol',\n",
    "                    'malic_acid',\n",
    "                    'ash',\n",
    "                    'alcalinity_of_ash',\n",
    "                    'magnesium',\n",
    "                    'total_phenols',\n",
    "                    'flavanoids',\n",
    "                    'nonflavanoid_phenols',\n",
    "                    'proanthocyanins',\n",
    "                    'color_intensity',\n",
    "                    'hue',\n",
    "                    'od280/od315_of_diluted_wines',\n",
    "                    'proline'])\n",
    "wine_df['Species']=wine_data.target\n",
    "wine_df\n",
    "\n",
    "# #将数据集转换为dataframe形式，便于观察\n",
    "# breast_cancer_df=pd.DataFrame(breast_cancer_data['data'],columns=\n",
    "#                     ['mean radius',\n",
    "#                     'mean texture',\n",
    "#                     'mean perimeter',\n",
    "#                     'mean area',\n",
    "#                     'mean smoothness',\n",
    "#                     'mean compactness',\n",
    "#                     'mean concavity',\n",
    "#                     'mean concave points', 'mean symmetry', 'mean fractal dimension',\n",
    "#         'radius error', 'texture error', 'perimeter error', 'area error',\n",
    "#         'smoothness error', 'compactness error', 'concavity error',\n",
    "#         'concave points error', 'symmetry error',\n",
    "#         'fractal dimension error', 'worst radius', 'worst texture',\n",
    "#         'worst perimeter', 'worst area', 'worst smoothness',\n",
    "#         'worst compactness', 'worst concavity', 'worst concave points',\n",
    "#         'worst symmetry', 'worst fractal dimension'])\n",
    "# breast_cancer_df['Species']=breast_cancer_data.target\n",
    "# breast_cancer_df\n",
    "\n",
    "# #将数据集转换为dataframe形式，便于观察\n",
    "# iris_df=pd.DataFrame(iris_data['data'],columns=\n",
    "#                     ['sepal length (cm)',\n",
    "#                      'sepal width (cm)',\n",
    "#                      'petal length (cm)',\n",
    "#                      'petal width (cm)'])\n",
    "# iris_df['Species']=iris_data.target\n",
    "# iris_df"
   ]
  },
  {
   "cell_type": "markdown",
   "metadata": {},
   "source": [
    "# 3 定义划分训练集与测试集的划分函数Split_DataSet()"
   ]
  },
  {
   "cell_type": "code",
   "execution_count": 1041,
   "metadata": {},
   "outputs": [],
   "source": [
    "#传入两个参数：dataset-待划分的数据集 ratio-训练集与测试集的划分比例\n",
    "def Split_DataSet(dataset,ratio):\n",
    "    random.shuffle(dataset)#首先将数据集中的样本数据进行随机排序，使得划分更具随机性，提高模型训练的泛化能力\n",
    "    train_dataset_size=int(len(dataset)*ratio)#获得训练集的大小\n",
    "    train_dataset=dataset[:train_dataset_size]#将数据集中的前train_dataset_size个样本数据划分到训练集中\n",
    "    test_dataset=dataset[train_dataset_size:]#将数据集中的后（len(dataset)-train_dataset_size)个样本数据划分到测试集中\n",
    "    return train_dataset,test_dataset#返回训练集和测试集"
   ]
  },
  {
   "cell_type": "markdown",
   "metadata": {},
   "source": [
    "## 自定义比例对数据集进行划分"
   ]
  },
  {
   "cell_type": "code",
   "execution_count": 1042,
   "metadata": {},
   "outputs": [],
   "source": [
    "# #包内的划分函数\n",
    "# winelabel=wine_df['Species']\n",
    "# winelabel\n",
    "# y=np.array(winelabel)\n",
    "# winedata=wine_df.drop(columns='Species')\n",
    "# winedata\n",
    "# x=np.array(winedata)\n",
    "# X_train,X_test,y_train,y_test=train_test_split(x,y,test_size=0.3)\n",
    "# X_train_df=pd.DataFrame(X_train)\n",
    "# X_train_df\n",
    "# y_train_df=pd.DataFrame(y_train)\n",
    "# y_train_df\n",
    "# train_dataset=pd.concat([X_train_df,y_train_df],axis=1)\n",
    "# train_dataset=np.array(train_dataset).tolist()\n",
    "# # train_dataset\n",
    "\n",
    "# X_test_df=pd.DataFrame(X_test)\n",
    "# X_test_df\n",
    "# y_test_df=pd.DataFrame(y_test)\n",
    "# y_test_df\n",
    "# test_dataset=pd.concat([X_test_df,y_test_df],axis=1)\n",
    "# test_dataset=np.array(test_dataset).tolist()\n",
    "# # test_dataset\n",
    "\n",
    "dataset=np.array(wine_df).tolist()#将数据集转换为列表形式，方便后续的计算操作\n",
    "train_dataset,test_dataset=Split_DataSet(dataset,ratio=0.7)#按照训练集:测试集=7:3的比例进行划分"
   ]
  },
  {
   "cell_type": "markdown",
   "metadata": {},
   "source": [
    "# 4 定义DatesetClassifying()函数，按照不同类别对训练集进行分类，以便计算P(c)=|Dc|/|D|"
   ]
  },
  {
   "cell_type": "code",
   "execution_count": 1043,
   "metadata": {},
   "outputs": [
    {
     "data": {
      "text/plain": [
       "{0.0: 41, 2.0: 32, 1.0: 51}"
      ]
     },
     "execution_count": 1043,
     "metadata": {},
     "output_type": "execute_result"
    }
   ],
   "source": [
    "#传入一个参数：dataset-待分类的数据集\n",
    "def DatesetClassifying(dataset):\n",
    "    classifying_detailed_info={}#保存不同类别下的样本数据信息\n",
    "    classifying_rough_info={}#保存不同类别下样本个数信息\n",
    "    for sample in dataset:#遍历数据集中的每一行\n",
    "        if sample[-1] not in classifying_detailed_info:#如果某一类标签不在字典中\n",
    "            classifying_detailed_info[sample[-1]]=[]\n",
    "            classifying_rough_info[sample[-1]]=0\n",
    "        classifying_detailed_info[sample[-1]].append(sample)#加入该类的样本数据\n",
    "        classifying_rough_info[sample[-1]]+=1#样本数增加\n",
    "    return classifying_detailed_info,classifying_rough_info#返回两个字典\n",
    "\n",
    "classifying_detailed_info,classifying_rough_info=DatesetClassifying(train_dataset)#获得训练集的样本分类结果\n",
    "classifying_rough_info#得到分类结果信息"
   ]
  },
  {
   "cell_type": "markdown",
   "metadata": {},
   "source": [
    "## 定义Class_ Probability()函数，计算P(c)=|Dc|/|D|"
   ]
  },
  {
   "cell_type": "code",
   "execution_count": 1044,
   "metadata": {},
   "outputs": [
    {
     "data": {
      "text/plain": [
       "{0.0: 0.33064516129032256, 2.0: 0.25806451612903225, 1.0: 0.4112903225806452}"
      ]
     },
     "execution_count": 1044,
     "metadata": {},
     "output_type": "execute_result"
    }
   ],
   "source": [
    "#传入两个参数：dataset-待计算的数据集 c_rough_info-dataset数据集的样本分类信息\n",
    "def Class_Probability(dataset,c_rough_info):\n",
    "    class_prob={}#保存P(c),其中c={0,1,2}\n",
    "    dataset_size=len(dataset)#获取数据集的大小\n",
    "    for cvalue,cnum in c_rough_info.items():#从样本分类信息字典中获得每个类别cvalue及其对应的样本个数cnum\n",
    "        class_prob[cvalue]=cnum/float(dataset_size)#计算三类P(c)值\n",
    "    return class_prob#返回P(c)结果信息\n",
    "\n",
    "class_prob=Class_Probability(train_dataset,classifying_rough_info)\n",
    "class_prob#得到三个类别的P(c)值"
   ]
  },
  {
   "cell_type": "markdown",
   "metadata": {},
   "source": [
    "# 5 定义Probability_Density()概率密度函数，计算不同属性在不同类别中的概率密度P(xi|c)"
   ]
  },
  {
   "cell_type": "code",
   "execution_count": 1045,
   "metadata": {},
   "outputs": [],
   "source": [
    "#首先，定义简单的取均值和取方差的函数\n",
    "def mean(list):\n",
    "    list=[float(x) for x in list] #将元素处理为数值\n",
    "    return sum(list)/float(len(list))#获得均值\n",
    "def variance(list):\n",
    "    list=[float(x) for x in list]\n",
    "    average=mean(list)\n",
    "    variance=sum([math.pow((x-average),2) for x in list])/float(len(list)-1)#获得方差\n",
    "    return variance#获得方差"
   ]
  },
  {
   "cell_type": "code",
   "execution_count": 1046,
   "metadata": {},
   "outputs": [],
   "source": [
    "#然后，定义Probability_Density()概率密度函数，计算P(xi|c)\n",
    "def Probability_Density(x,mean,variance):\n",
    "    exp=math.exp(math.pow((x-mean),2)/(-2*variance))\n",
    "    pd=(1/math.sqrt(2*math.pi*variance))*exp\n",
    "    return pd#获得P(xi|c)"
   ]
  },
  {
   "cell_type": "markdown",
   "metadata": {},
   "source": [
    "# 6 定义Probability_Density_Multi()函数，计算P(x|c)"
   ]
  },
  {
   "cell_type": "code",
   "execution_count": 1047,
   "metadata": {},
   "outputs": [
    {
     "data": {
      "text/plain": [
       "[(13.001774193548382, 0.7088488591660115),\n",
       " (2.388709677419355, 1.3035934434828225),\n",
       " (2.3716129032258055, 0.07602827170207184),\n",
       " (19.566935483870967, 10.676865329137167),\n",
       " (99.51612903225806, 207.65014424337775),\n",
       " (2.2818548387096764, 0.3550428730658273),\n",
       " (2.054919354838711, 0.9758951153947021),\n",
       " (0.3645967741935485, 0.01436975478625753),\n",
       " (1.625967741935484, 0.3306388932599005),\n",
       " (4.925322580645163, 4.964301521111985),\n",
       " (0.9545967741935486, 0.0545632507212169),\n",
       " (2.6233870967741932, 0.4771624180435354),\n",
       " (731.3064516129032, 93150.50694990829)]"
      ]
     },
     "execution_count": 1047,
     "metadata": {},
     "output_type": "execute_result"
    }
   ],
   "source": [
    "#首先，定义Attribution_Mean_Var()函数计算数据集中样本数据不同属性的均值和方差，以便计算不同属性在不同类别中的概率密度函数\n",
    "#传入一个参数：dataset-待计算数据集\n",
    "def Attribution_Mean_Var(dataset):\n",
    "    dataset=np.delete(dataset,-1,axis=1)#删除标签列（即target列）\n",
    "    mean_var=[(mean(attribution),variance(attribution)) for attribution in zip(*dataset)]#获得不同属性的均值和方差\n",
    "    return mean_var#返回结果\n",
    "\n",
    "mean_var=Attribution_Mean_Var(train_dataset)\n",
    "mean_var"
   ]
  },
  {
   "cell_type": "code",
   "execution_count": 1048,
   "metadata": {},
   "outputs": [
    {
     "data": {
      "text/plain": [
       "{0.0: [(13.757317073170736, 0.22272012195121943),\n",
       "  (2.0717073170731704, 0.5820395121951217),\n",
       "  (2.4580487804878053, 0.05730609756097562),\n",
       "  (17.28048780487805, 6.325109756097563),\n",
       "  (106.36585365853658, 114.33780487804877),\n",
       "  (2.7963414634146337, 0.10178378048780487),\n",
       "  (2.9490243902439026, 0.13717402439024393),\n",
       "  (0.28731707317073163, 0.005045121951219511),\n",
       "  (1.9014634146341465, 0.14038780487804878),\n",
       "  (5.444146341463414, 1.3522198780487809),\n",
       "  (1.0521951219512196, 0.01468256097560976),\n",
       "  (3.142682926829268, 0.11212012195121954),\n",
       "  (1080.2439024390244, 56134.93902439026)],\n",
       " 2.0: [(13.2765625, 0.280920060483871),\n",
       "  (3.319375, 1.4775479838709682),\n",
       "  (2.4325000000000006, 0.038296774193548405),\n",
       "  (21.28125, 4.773185483870968),\n",
       "  (97.53125, 117.61189516129032),\n",
       "  (1.6968750000000001, 0.1545963709677419),\n",
       "  (0.7684375, 0.08403296370967742),\n",
       "  (0.4449999999999999, 0.012703225806451614),\n",
       "  (1.1996874999999998, 0.21378377016129035),\n",
       "  (7.164999999999998, 5.325935483870969),\n",
       "  (0.6756249999999999, 0.012412500000000003),\n",
       "  (1.7028124999999998, 0.08356925403225808),\n",
       "  (632.1875, 11588.608870967742)],\n",
       " 1.0: [(12.221960784313726, 0.2547320784313725),\n",
       "  (2.059607843137255, 1.0779238431372544),\n",
       "  (2.2639215686274508, 0.09711231372549019),\n",
       "  (20.329411764705878, 11.484917647058824),\n",
       "  (95.25490196078431, 286.913725490196),\n",
       "  (2.2352941176470598, 0.2578574117647059),\n",
       "  (2.143333333333333, 0.5161386666666666),\n",
       "  (0.3762745098039215, 0.014263843137254898),\n",
       "  (1.6719607843137256, 0.38782407843137257),\n",
       "  (3.1029411764705883, 1.0097651764705882),\n",
       "  (1.0511764705882352, 0.04765058823529412),\n",
       "  (2.7835294117647056, 0.24265129411764708),\n",
       "  (512.9803921568628, 22309.019607843147)]}"
      ]
     },
     "execution_count": 1048,
     "metadata": {},
     "output_type": "execute_result"
    }
   ],
   "source": [
    "#然后，定义AMV_Class()函数，计算不同类别下不同属性的均值和方差，以便计算P(x|c)\n",
    "#传入一个参数：dataset-待计算的数据集\n",
    "def AMV_Class(dataset):\n",
    "    classifying_detailed_info,classifying_rough_info=DatesetClassifying(dataset)#获得数据集分类信息\n",
    "    amv_class={}#保存不同类别下不同属性均值和方差的字典\n",
    "    for cvalue,csample in classifying_detailed_info.items():#cvalue是数据集中的类别，csample是每个类别下的样本信息\n",
    "        amv_class[cvalue]=Attribution_Mean_Var(csample)#获得每个类别（3个）中不同属性（13个）的均值和方差\n",
    "    return amv_class#返回每个类别中不同属性的均值和方差\n",
    "\n",
    "amv_class=AMV_Class(train_dataset)\n",
    "amv_class#得到训练集中不同类别下不同属性的均值和方差"
   ]
  },
  {
   "cell_type": "code",
   "execution_count": 1049,
   "metadata": {},
   "outputs": [
    {
     "data": {
      "text/plain": [
       "{0.0: 8.867431542266003e-34,\n",
       " 2.0: 3.094595022261475e-09,\n",
       " 1.0: 2.623961610492528e-17}"
      ]
     },
     "execution_count": 1049,
     "metadata": {},
     "output_type": "execute_result"
    }
   ],
   "source": [
    "#最后，定义Probability_Density_Multi()函数，计算P(x|c)\n",
    "#传入两个参数：sample-待预测样本 amv_class-训练集中不同类别下不同属性的均值和方差\n",
    "def Probability_Density_Multi(sample_data,amv_class):\n",
    "    PDM={}#保存P(x|c)\n",
    "    for cvalue,mean_var in amv_class.items():#cvalue-类别，mean_var-不同类别下不同属性的均值和方差\n",
    "        PDM[cvalue]=1#先初始化每个类别的p(x|c)为1\n",
    "        for i in range(len(mean_var)):\n",
    "            mean,variance=mean_var[i]#获得每个类别中不同属性的均值和方差\n",
    "            x=sample_data[i]\n",
    "            pdm=Probability_Density(x,mean,variance)\n",
    "            PDM[cvalue]*=pdm\n",
    "    return PDM#返回每个类别下的p(x|c)\n",
    "\n",
    "sample=test_dataset[1]\n",
    "sample_data=sample[:-1]\n",
    "amv_class=AMV_Class(train_dataset)\n",
    "PDM=Probability_Density_Multi(sample_data,amv_class)\n",
    "PDM"
   ]
  },
  {
   "cell_type": "markdown",
   "metadata": {},
   "source": [
    "# 7 定义高斯朴素贝叶斯分类器Naive_Bayesian_Classifier()函数对样本进行分类"
   ]
  },
  {
   "cell_type": "code",
   "execution_count": 1050,
   "metadata": {},
   "outputs": [
    {
     "name": "stdout",
     "output_type": "stream",
     "text": [
      "样本 [14.38, 3.59, 2.28, 16.0, 102.0, 3.25, 3.17, 0.27, 2.19, 4.9, 1.04, 3.44, 1065.0] 被预测为第 0 类.\n"
     ]
    }
   ],
   "source": [
    "#输入一个参数：sample-待预测的样本\n",
    "def Naive_Bayesian_Classifier(sample_data):\n",
    "    class_prob=Class_Probability(train_dataset,classifying_rough_info)#p(c)\n",
    "    amv_class=AMV_Class(train_dataset)#按类别将样本进行分类\n",
    "    PDM=Probability_Density_Multi(sample_data,amv_class)#计算p(x|c)\n",
    "    result={}#保存结果\n",
    "    for cvalue,pdm in PDM.items():\n",
    "        p=pdm*class_prob[cvalue]#计算p(x|c=1)*p(c)\n",
    "        result[cvalue]=p#得到p(c=1|x)...p(c=4|x)\n",
    "    return max(result,key=result.get)#返回概率最大的类标签\n",
    "\n",
    "#单例测试\n",
    "sample=test_dataset[2]\n",
    "sample_data=sample[:-1]\n",
    "result =int(Naive_Bayesian_Classifier(sample_data)) \n",
    "print(\"样本 {0} 被预测为第 {1} 类.\".format(sample_data,result))"
   ]
  },
  {
   "cell_type": "markdown",
   "metadata": {},
   "source": [
    "# 8 评估分类器"
   ]
  },
  {
   "cell_type": "code",
   "execution_count": 1051,
   "metadata": {},
   "outputs": [
    {
     "name": "stdout",
     "output_type": "stream",
     "text": [
      "0.9758064516129032 0.9814814814814815\n"
     ]
    }
   ],
   "source": [
    "#输入一个参数：dataset-待处理的数据集 计算分类器的得分情况\n",
    "def NB_Classifier_ACC(dataset):\n",
    "    count=0\n",
    "    for sample in dataset:\n",
    "        sample_data=sample[:-1]\n",
    "        sample_label=sample[-1]\n",
    "        result=Naive_Bayesian_Classifier(sample_data)\n",
    "        if result==sample_label:\n",
    "            count+=1\n",
    "    return count/len(dataset)\n",
    "\n",
    "Acc_train_dataset=NB_Classifier_ACC(train_dataset)#获得分类器在训练集上的得分\n",
    "Acc_test_dataset=NB_Classifier_ACC(test_dataset)#获得分类器在测试集上的得分\n",
    "print(Acc_train_dataset,Acc_test_dataset)"
   ]
  },
  {
   "cell_type": "markdown",
   "metadata": {},
   "source": [
    "# 9 调包实现分类"
   ]
  },
  {
   "cell_type": "code",
   "execution_count": 1052,
   "metadata": {},
   "outputs": [
    {
     "data": {
      "text/html": [
       "<div>\n",
       "<style scoped>\n",
       "    .dataframe tbody tr th:only-of-type {\n",
       "        vertical-align: middle;\n",
       "    }\n",
       "\n",
       "    .dataframe tbody tr th {\n",
       "        vertical-align: top;\n",
       "    }\n",
       "\n",
       "    .dataframe thead th {\n",
       "        text-align: right;\n",
       "    }\n",
       "</style>\n",
       "<table border=\"1\" class=\"dataframe\">\n",
       "  <thead>\n",
       "    <tr style=\"text-align: right;\">\n",
       "      <th></th>\n",
       "      <th>alcohol</th>\n",
       "      <th>malic_acid</th>\n",
       "      <th>ash</th>\n",
       "      <th>alcalinity_of_ash</th>\n",
       "      <th>magnesium</th>\n",
       "      <th>total_phenols</th>\n",
       "      <th>flavanoids</th>\n",
       "      <th>nonflavanoid_phenols</th>\n",
       "      <th>proanthocyanins</th>\n",
       "      <th>color_intensity</th>\n",
       "      <th>hue</th>\n",
       "      <th>od280/od315_of_diluted_wines</th>\n",
       "      <th>proline</th>\n",
       "      <th>Species</th>\n",
       "    </tr>\n",
       "  </thead>\n",
       "  <tbody>\n",
       "    <tr>\n",
       "      <th>0</th>\n",
       "      <td>14.23</td>\n",
       "      <td>1.71</td>\n",
       "      <td>2.43</td>\n",
       "      <td>15.6</td>\n",
       "      <td>127.0</td>\n",
       "      <td>2.80</td>\n",
       "      <td>3.06</td>\n",
       "      <td>0.28</td>\n",
       "      <td>2.29</td>\n",
       "      <td>5.64</td>\n",
       "      <td>1.04</td>\n",
       "      <td>3.92</td>\n",
       "      <td>1065.0</td>\n",
       "      <td>0</td>\n",
       "    </tr>\n",
       "    <tr>\n",
       "      <th>1</th>\n",
       "      <td>13.20</td>\n",
       "      <td>1.78</td>\n",
       "      <td>2.14</td>\n",
       "      <td>11.2</td>\n",
       "      <td>100.0</td>\n",
       "      <td>2.65</td>\n",
       "      <td>2.76</td>\n",
       "      <td>0.26</td>\n",
       "      <td>1.28</td>\n",
       "      <td>4.38</td>\n",
       "      <td>1.05</td>\n",
       "      <td>3.40</td>\n",
       "      <td>1050.0</td>\n",
       "      <td>0</td>\n",
       "    </tr>\n",
       "    <tr>\n",
       "      <th>2</th>\n",
       "      <td>13.16</td>\n",
       "      <td>2.36</td>\n",
       "      <td>2.67</td>\n",
       "      <td>18.6</td>\n",
       "      <td>101.0</td>\n",
       "      <td>2.80</td>\n",
       "      <td>3.24</td>\n",
       "      <td>0.30</td>\n",
       "      <td>2.81</td>\n",
       "      <td>5.68</td>\n",
       "      <td>1.03</td>\n",
       "      <td>3.17</td>\n",
       "      <td>1185.0</td>\n",
       "      <td>0</td>\n",
       "    </tr>\n",
       "    <tr>\n",
       "      <th>3</th>\n",
       "      <td>14.37</td>\n",
       "      <td>1.95</td>\n",
       "      <td>2.50</td>\n",
       "      <td>16.8</td>\n",
       "      <td>113.0</td>\n",
       "      <td>3.85</td>\n",
       "      <td>3.49</td>\n",
       "      <td>0.24</td>\n",
       "      <td>2.18</td>\n",
       "      <td>7.80</td>\n",
       "      <td>0.86</td>\n",
       "      <td>3.45</td>\n",
       "      <td>1480.0</td>\n",
       "      <td>0</td>\n",
       "    </tr>\n",
       "    <tr>\n",
       "      <th>4</th>\n",
       "      <td>13.24</td>\n",
       "      <td>2.59</td>\n",
       "      <td>2.87</td>\n",
       "      <td>21.0</td>\n",
       "      <td>118.0</td>\n",
       "      <td>2.80</td>\n",
       "      <td>2.69</td>\n",
       "      <td>0.39</td>\n",
       "      <td>1.82</td>\n",
       "      <td>4.32</td>\n",
       "      <td>1.04</td>\n",
       "      <td>2.93</td>\n",
       "      <td>735.0</td>\n",
       "      <td>0</td>\n",
       "    </tr>\n",
       "    <tr>\n",
       "      <th>...</th>\n",
       "      <td>...</td>\n",
       "      <td>...</td>\n",
       "      <td>...</td>\n",
       "      <td>...</td>\n",
       "      <td>...</td>\n",
       "      <td>...</td>\n",
       "      <td>...</td>\n",
       "      <td>...</td>\n",
       "      <td>...</td>\n",
       "      <td>...</td>\n",
       "      <td>...</td>\n",
       "      <td>...</td>\n",
       "      <td>...</td>\n",
       "      <td>...</td>\n",
       "    </tr>\n",
       "    <tr>\n",
       "      <th>173</th>\n",
       "      <td>13.71</td>\n",
       "      <td>5.65</td>\n",
       "      <td>2.45</td>\n",
       "      <td>20.5</td>\n",
       "      <td>95.0</td>\n",
       "      <td>1.68</td>\n",
       "      <td>0.61</td>\n",
       "      <td>0.52</td>\n",
       "      <td>1.06</td>\n",
       "      <td>7.70</td>\n",
       "      <td>0.64</td>\n",
       "      <td>1.74</td>\n",
       "      <td>740.0</td>\n",
       "      <td>2</td>\n",
       "    </tr>\n",
       "    <tr>\n",
       "      <th>174</th>\n",
       "      <td>13.40</td>\n",
       "      <td>3.91</td>\n",
       "      <td>2.48</td>\n",
       "      <td>23.0</td>\n",
       "      <td>102.0</td>\n",
       "      <td>1.80</td>\n",
       "      <td>0.75</td>\n",
       "      <td>0.43</td>\n",
       "      <td>1.41</td>\n",
       "      <td>7.30</td>\n",
       "      <td>0.70</td>\n",
       "      <td>1.56</td>\n",
       "      <td>750.0</td>\n",
       "      <td>2</td>\n",
       "    </tr>\n",
       "    <tr>\n",
       "      <th>175</th>\n",
       "      <td>13.27</td>\n",
       "      <td>4.28</td>\n",
       "      <td>2.26</td>\n",
       "      <td>20.0</td>\n",
       "      <td>120.0</td>\n",
       "      <td>1.59</td>\n",
       "      <td>0.69</td>\n",
       "      <td>0.43</td>\n",
       "      <td>1.35</td>\n",
       "      <td>10.20</td>\n",
       "      <td>0.59</td>\n",
       "      <td>1.56</td>\n",
       "      <td>835.0</td>\n",
       "      <td>2</td>\n",
       "    </tr>\n",
       "    <tr>\n",
       "      <th>176</th>\n",
       "      <td>13.17</td>\n",
       "      <td>2.59</td>\n",
       "      <td>2.37</td>\n",
       "      <td>20.0</td>\n",
       "      <td>120.0</td>\n",
       "      <td>1.65</td>\n",
       "      <td>0.68</td>\n",
       "      <td>0.53</td>\n",
       "      <td>1.46</td>\n",
       "      <td>9.30</td>\n",
       "      <td>0.60</td>\n",
       "      <td>1.62</td>\n",
       "      <td>840.0</td>\n",
       "      <td>2</td>\n",
       "    </tr>\n",
       "    <tr>\n",
       "      <th>177</th>\n",
       "      <td>14.13</td>\n",
       "      <td>4.10</td>\n",
       "      <td>2.74</td>\n",
       "      <td>24.5</td>\n",
       "      <td>96.0</td>\n",
       "      <td>2.05</td>\n",
       "      <td>0.76</td>\n",
       "      <td>0.56</td>\n",
       "      <td>1.35</td>\n",
       "      <td>9.20</td>\n",
       "      <td>0.61</td>\n",
       "      <td>1.60</td>\n",
       "      <td>560.0</td>\n",
       "      <td>2</td>\n",
       "    </tr>\n",
       "  </tbody>\n",
       "</table>\n",
       "<p>178 rows × 14 columns</p>\n",
       "</div>"
      ],
      "text/plain": [
       "     alcohol  malic_acid   ash  alcalinity_of_ash  magnesium  total_phenols  \\\n",
       "0      14.23        1.71  2.43               15.6      127.0           2.80   \n",
       "1      13.20        1.78  2.14               11.2      100.0           2.65   \n",
       "2      13.16        2.36  2.67               18.6      101.0           2.80   \n",
       "3      14.37        1.95  2.50               16.8      113.0           3.85   \n",
       "4      13.24        2.59  2.87               21.0      118.0           2.80   \n",
       "..       ...         ...   ...                ...        ...            ...   \n",
       "173    13.71        5.65  2.45               20.5       95.0           1.68   \n",
       "174    13.40        3.91  2.48               23.0      102.0           1.80   \n",
       "175    13.27        4.28  2.26               20.0      120.0           1.59   \n",
       "176    13.17        2.59  2.37               20.0      120.0           1.65   \n",
       "177    14.13        4.10  2.74               24.5       96.0           2.05   \n",
       "\n",
       "     flavanoids  nonflavanoid_phenols  proanthocyanins  color_intensity   hue  \\\n",
       "0          3.06                  0.28             2.29             5.64  1.04   \n",
       "1          2.76                  0.26             1.28             4.38  1.05   \n",
       "2          3.24                  0.30             2.81             5.68  1.03   \n",
       "3          3.49                  0.24             2.18             7.80  0.86   \n",
       "4          2.69                  0.39             1.82             4.32  1.04   \n",
       "..          ...                   ...              ...              ...   ...   \n",
       "173        0.61                  0.52             1.06             7.70  0.64   \n",
       "174        0.75                  0.43             1.41             7.30  0.70   \n",
       "175        0.69                  0.43             1.35            10.20  0.59   \n",
       "176        0.68                  0.53             1.46             9.30  0.60   \n",
       "177        0.76                  0.56             1.35             9.20  0.61   \n",
       "\n",
       "     od280/od315_of_diluted_wines  proline  Species  \n",
       "0                            3.92   1065.0        0  \n",
       "1                            3.40   1050.0        0  \n",
       "2                            3.17   1185.0        0  \n",
       "3                            3.45   1480.0        0  \n",
       "4                            2.93    735.0        0  \n",
       "..                            ...      ...      ...  \n",
       "173                          1.74    740.0        2  \n",
       "174                          1.56    750.0        2  \n",
       "175                          1.56    835.0        2  \n",
       "176                          1.62    840.0        2  \n",
       "177                          1.60    560.0        2  \n",
       "\n",
       "[178 rows x 14 columns]"
      ]
     },
     "execution_count": 1052,
     "metadata": {},
     "output_type": "execute_result"
    }
   ],
   "source": [
    "from sklearn.datasets import load_wine,load_breast_cancer,load_iris\n",
    "from sklearn.model_selection import train_test_split\n",
    "from sklearn.naive_bayes import GaussianNB,MultinomialNB\n",
    "from sklearn.metrics import accuracy_score,roc_auc_score,classification_report\n",
    "\n",
    "# wine=load_wine()\n",
    "# wine.feature_names\n",
    "# wine.data\n",
    "# wine.data.size\n",
    "# wine.target_names\n",
    "\n",
    "wine=load_wine()\n",
    "wine\n",
    "wine_ddf=pd.DataFrame(wine['data'],columns=\n",
    "                    ['alcohol',\n",
    "                    'malic_acid',\n",
    "                    'ash',\n",
    "                    'alcalinity_of_ash',\n",
    "                    'magnesium',\n",
    "                    'total_phenols',\n",
    "                    'flavanoids',\n",
    "                    'nonflavanoid_phenols',\n",
    "                    'proanthocyanins',\n",
    "                    'color_intensity',\n",
    "                    'hue',\n",
    "                    'od280/od315_of_diluted_wines',\n",
    "                    'proline'])\n",
    "wine_ddf['Species']=wine.target\n",
    "wine_ddf"
   ]
  },
  {
   "cell_type": "code",
   "execution_count": 1053,
   "metadata": {},
   "outputs": [
    {
     "name": "stdout",
     "output_type": "stream",
     "text": [
      "Accuracy: 0.9074074074074074\n"
     ]
    }
   ],
   "source": [
    "#红酒数据集-多分类任务-应用MultinomialNB分类器\n",
    "winedate_label=wine_ddf['Species']\n",
    "winedate_label\n",
    "y=np.array(winedate_label)\n",
    "winedate_data=wine_ddf.drop(columns='Species')\n",
    "winedate_data\n",
    "x=np.array(winedate_data)\n",
    "\n",
    "X_train,X_test,y_train,y_test=train_test_split(x,y,test_size=0.3)\n",
    "naive_bayes=MultinomialNB()\n",
    "naive_bayes.fit(X_train,y_train)\n",
    "y_predicted=naive_bayes.predict(X_test)\n",
    "print('Accuracy:',accuracy_score(y_test,y_predicted))"
   ]
  },
  {
   "cell_type": "code",
   "execution_count": 1054,
   "metadata": {},
   "outputs": [
    {
     "name": "stdout",
     "output_type": "stream",
     "text": [
      "Accuracy: 1.0\n"
     ]
    }
   ],
   "source": [
    "#鸢尾花数据集-二分类任务-应用GaussianNB分类器\n",
    "X,y=load_iris(return_X_y=True)\n",
    "X_train,X_test,y_train,y_test=train_test_split(X,y,test_size=0.2)\n",
    "\n",
    "naive_bayes=GaussianNB()\n",
    "naive_bayes.fit(X_train,y_train)\n",
    "\n",
    "y_predicted=naive_bayes.predict(X_test)\n",
    "\n",
    "print('Accuracy:',accuracy_score(y_test,y_predicted))"
   ]
  },
  {
   "cell_type": "code",
   "execution_count": 1055,
   "metadata": {},
   "outputs": [
    {
     "data": {
      "image/png": "[encoded data removed]",
      "text/plain": [
       "<Figure size 720x444.96 with 1 Axes>"
      ]
     },
     "metadata": {
      "needs_background": "light"
     },
     "output_type": "display_data"
    }
   ],
   "source": [
    "#特征提取示例\n",
    "from sklearn.ensemble import RandomForestClassifier\n",
    "\n",
    "X=wine_df.iloc[:,0:13]\n",
    "y=wine_df.iloc[:,8]\n",
    "# 创建分类器\n",
    "model = RandomForestClassifier(random_state=30)\n",
    "\n",
    "# 拟合数据\n",
    "model.fit(X, y.astype('int'))\n",
    "\n",
    "# 提取特征重要性\n",
    "importance = pd.Series(model.feature_importances_, index=X.columns)\n",
    "importance = importance.sort_values()\n",
    "\n",
    "# 可视化\n",
    "ax = importance.plot.barh(figsize = (10, 6.18), title=\"Feature Importance by RandomForest\")"
   ]
  },
  {
   "cell_type": "markdown",
   "metadata": {},
   "source": [
    "# 10 实验结果可视化\n",
    "\n",
    "## 10.1 在不同数据上的实验结果展示"
   ]
  },
  {
   "cell_type": "code",
   "execution_count": 1056,
   "metadata": {},
   "outputs": [
    {
     "name": "stderr",
     "output_type": "stream",
     "text": [
      "<ipython-input-1056-de7a7e298c3f>:51: UserWarning: Matplotlib is currently using module://ipykernel.pylab.backend_inline, which is a non-GUI backend, so cannot show the figure.\n",
      "  fig.show()\n"
     ]
    },
    {
     "data": {
      "image/png": "[encoded data removed]",
      "text/plain": [
       "<Figure size 1440x576 with 3 Axes>"
      ]
     },
     "metadata": {
      "needs_background": "light"
     },
     "output_type": "display_data"
    }
   ],
   "source": [
    "import matplotlib\n",
    "import matplotlib.pyplot as plt\n",
    "# from matplotlib import mpl\n",
    "matplotlib.rcParams[\"font.sans-serif\"] = [\"SimHei\"]#设置显示中文字体\n",
    "matplotlib.rcParams[\"axes.unicode_minus\"] = False#设置正常显示符号\n",
    "\n",
    "wine_times=[1,2,3,4,5]\n",
    "wine_train_score=[0.97,0.98,0.98,0.97,0.98]\n",
    "wine_test_score=[0.98,1,0.98,0.98,0.98]\n",
    "\n",
    "breast_cancer_times=[1,2,3,4,5]\n",
    "breast_cancer_train_score=[0.94,0.94,0.94,0.93,0.93]\n",
    "breast_cancer_test_score=[0.9,0.92,0.93,0.96,0.94]\n",
    "\n",
    "iris_times=[1,2,3,4,5]\n",
    "iris_train_score=[0.97,0.98,0.98,0.97,0.98]\n",
    "iris_test_score=[0.93,0.91,0.9,0.93,0.9]\n",
    "\n",
    "fig=plt.figure(figsize=(20,8))\n",
    "fig.add_subplot(1,3,1)\n",
    "plt.plot(wine_times,wine_train_score,'bs-',\n",
    "        wine_times,wine_test_score,'ro-')\n",
    "plt.xlabel('实验次数')\n",
    "plt.ylabel('实验得分')\n",
    "plt.ylim([0.5,1])\n",
    "plt.xticks(wine_times)\n",
    "plt.title('红酒数据集')\n",
    "plt.legend(['训练集得分','测试集得分'],loc='lower left')\n",
    "\n",
    "fig.add_subplot(1,3,2)\n",
    "plt.plot(breast_cancer_times,breast_cancer_train_score,'bs-',\n",
    "        breast_cancer_times,breast_cancer_test_score,'ro-')\n",
    "plt.xlabel('实验次数')\n",
    "plt.ylabel('实验得分')\n",
    "plt.ylim([0.5,1])\n",
    "plt.xticks(breast_cancer_times)\n",
    "plt.title('乳腺癌数据集')\n",
    "plt.legend(['训练集得分','测试集得分'],loc='lower left')\n",
    "\n",
    "fig.add_subplot(1,3,3)\n",
    "plt.plot(iris_times,iris_train_score,'bs-',\n",
    "        iris_times,iris_test_score,'ro-')\n",
    "plt.xlabel('实验次数')\n",
    "plt.ylabel('实验得分')\n",
    "plt.ylim([0.5,1])\n",
    "plt.xticks(breast_cancer_times)\n",
    "plt.title('鸢尾花数据集')\n",
    "plt.legend(['训练集得分','测试集得分'],loc='lower left')\n",
    "\n",
    "fig.savefig('不同数据集上的实验效果.png')\n",
    "fig.show()\n",
    "# ax1=axeses[0]\n",
    "# ax2=axeses[0]\n",
    "# ax3=axeses[0]\n",
    "# ax1.plot(wine_times,wine_train_score,'bs-',\n",
    "#         wine_times,wine_test_score,'ro-')\n",
    "# ax1.xlabel('实验次数')\n",
    "# ax1.ylabel('实验得分')\n",
    "# ax1.ylim([0.8,1])\n",
    "# ax1.xticks(wine_times)\n",
    "# ax1.title('红酒数据集')\n",
    "# ax1.legend(['训练集得分','测试集得分'])"
   ]
  },
  {
   "cell_type": "code",
   "execution_count": 1057,
   "metadata": {
    "scrolled": false
   },
   "outputs": [
    {
     "data": {
      "image/png": "[encoded data removed]",
      "text/plain": [
       "<Figure size 216x216 with 1 Axes>"
      ]
     },
     "metadata": {
      "needs_background": "light"
     },
     "output_type": "display_data"
    }
   ],
   "source": [
    "plt.figure(figsize=(3,3))\n",
    "plt.plot(wine_times,wine_train_score,'bs-',\n",
    "        wine_times,wine_test_score,'ro-')\n",
    "plt.xlabel('实验次数')\n",
    "plt.ylabel('实验得分')\n",
    "plt.ylim([0.5,1])\n",
    "plt.xticks(wine_times)\n",
    "plt.title('红酒数据集')\n",
    "plt.legend(['训练集得分','测试集得分'])\n",
    "plt.savefig('红酒数据集7：3实验结果.png')\n",
    "plt.show()"
   ]
  },
  {
   "cell_type": "code",
   "execution_count": 1058,
   "metadata": {},
   "outputs": [
    {
     "data": {
      "image/png": "[encoded data removed]",
      "text/plain": [
       "<Figure size 216x216 with 1 Axes>"
      ]
     },
     "metadata": {
      "needs_background": "light"
     },
     "output_type": "display_data"
    }
   ],
   "source": [
    "plt.figure(figsize=(3,3))\n",
    "plt.plot(breast_cancer_times,breast_cancer_train_score,'bs-',\n",
    "        breast_cancer_times,breast_cancer_test_score,'ro-')\n",
    "plt.xlabel('实验次数')\n",
    "plt.ylabel('实验得分')\n",
    "plt.ylim([0.5,1.0])\n",
    "plt.xticks(breast_cancer_times)\n",
    "plt.title('乳腺癌数据集')\n",
    "plt.legend(['训练集得分','测试集得分'])\n",
    "plt.savefig('乳腺癌数据集7：3实验结果.png')\n",
    "plt.show()"
   ]
  },
  {
   "cell_type": "code",
   "execution_count": 1059,
   "metadata": {},
   "outputs": [
    {
     "data": {
      "image/png": "[encoded data removed]",
      "text/plain": [
       "<Figure size 216x216 with 1 Axes>"
      ]
     },
     "metadata": {
      "needs_background": "light"
     },
     "output_type": "display_data"
    }
   ],
   "source": [
    "plt.figure(figsize=(3,3))\n",
    "plt.plot(iris_times,iris_train_score,'bs-',\n",
    "        iris_times,iris_test_score,'ro-')\n",
    "plt.xlabel('实验次数')\n",
    "plt.ylabel('实验得分')\n",
    "plt.ylim([0.5,1.0])\n",
    "plt.xticks(iris_times)\n",
    "plt.title('鸢尾花数据集')\n",
    "plt.legend(['训练集得分','测试集得分'])\n",
    "plt.savefig('鸢尾花数据集7：3实验结果.png')\n",
    "plt.show()"
   ]
  },
  {
   "cell_type": "code",
   "execution_count": 1060,
   "metadata": {},
   "outputs": [
    {
     "data": {
      "image/png": "[encoded data removed]",
      "text/plain": [
       "<Figure size 576x360 with 1 Axes>"
      ]
     },
     "metadata": {
      "needs_background": "light"
     },
     "output_type": "display_data"
    }
   ],
   "source": [
    "plt.figure(figsize=(8,5))\n",
    "plt.plot(wine_times,wine_test_score,'bs-',\n",
    "         wine_times,breast_cancer_test_score,'ro-',\n",
    "         wine_times,iris_test_score,'y+-')\n",
    "plt.xlabel('实验次数')\n",
    "plt.ylabel('实验得分')\n",
    "plt.ylim([0.5,1.0])\n",
    "plt.xticks(wine_times)\n",
    "plt.title('不同数据集上模型的性能表现')\n",
    "plt.legend(['红酒数据集','乳腺癌数据集','鸢尾花数据集'])\n",
    "plt.savefig('不同数据集上模型的性能表现')\n",
    "plt.show()"
   ]
  },
  {
   "cell_type": "markdown",
   "metadata": {},
   "source": [
    "## 10.2 在不同划分情况下的实验结果展示"
   ]
  },
  {
   "cell_type": "code",
   "execution_count": 1061,
   "metadata": {},
   "outputs": [
    {
     "data": {
      "image/png": "[encoded data removed]",
      "text/plain": [
       "<Figure size 576x504 with 1 Axes>"
      ]
     },
     "metadata": {
      "needs_background": "light"
     },
     "output_type": "display_data"
    }
   ],
   "source": [
    "times=[1,2,3,4,5]\n",
    "model_score_7_3=[0.01,0.02,0,0.01,0]\n",
    "model_score_5_5=[-0.02,-0.04,-0.01,-0.06,-0.01]\n",
    "model_score_3_5=[-0.01,-0.03,-0.02,-0.06,-0.02]\n",
    "groudth=[0,0,0,0,0]\n",
    "plt.figure(figsize=(8,7))\n",
    "plt.plot(times,model_score_7_3,'bo-',\n",
    "        times,model_score_5_5,'ro-',\n",
    "        times,model_score_3_5,'yo-',\n",
    "        times,groudth,'k--')\n",
    "plt.xlabel('实验次数')\n",
    "plt.ylabel('模型优劣（≥0:优,＜0:劣）')\n",
    "plt.ylim([-0.1,0.1])\n",
    "plt.xticks(times)\n",
    "plt.title('不同划分情况下模型优劣情况')\n",
    "plt.legend(['训练集/测试集:7/3','训练集/测试集:5/5','训练集/测试集:3/7','模型优劣判别线'])\n",
    "plt.savefig('不同划分情况下模型优劣情况.png')\n",
    "plt.show()"
   ]
  }
 ],
 "metadata": {
  "kernelspec": {
   "display_name": "Python 3",
   "language": "python",
   "name": "python3"
  },
  "language_info": {
   "codemirror_mode": {
    "name": "ipython",
    "version": 3
   },
   "file_extension": ".py",
   "mimetype": "text/x-python",
   "name": "python",
   "nbconvert_exporter": "python",
   "pygments_lexer": "ipython3",
   "version": "3.8.5"
  }
 },
 "nbformat": 4,
 "nbformat_minor": 4
}
